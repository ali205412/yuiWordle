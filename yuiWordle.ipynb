{
 "cells": [
  {
   "cell_type": "code",
   "execution_count": null,
   "metadata": {
    "scrolled": true
   },
   "outputs": [],
   "source": [
    "from selenium import webdriver\n",
    "from pyshadow.main import Shadow\n",
    "from selenium.webdriver.common.keys import Keys\n",
    "import re\n",
    "import time\n",
    "import string\n",
    "\n",
    "dictionary = \"american-english.txt\"\n",
    "letters = set(string.ascii_letters)\n",
    "noAttempt = 6\n",
    "lenWord = 5"
   ]
  },
  {
   "cell_type": "code",
   "execution_count": null,
   "metadata": {
    "scrolled": true
   },
   "outputs": [],
   "source": [
    "wordlist = [word.strip() for word in open(dictionary, \"r\").readlines()]\n",
    "tryWords = {\n",
    "    word.lower()\n",
    "    for word in wordlist    \n",
    "    if len(word) == lenWord and set(word) < letters\n",
    "    }\n",
    "tryWords"
   ]
  },
  {
   "cell_type": "code",
   "execution_count": null,
   "metadata": {
    "scrolled": true
   },
   "outputs": [],
   "source": [
    "from collections import Counter\n",
    "from itertools import chain\n",
    "\n",
    "\n",
    "iterLetter = Counter(chain.from_iterable(tryWords))\n",
    "\n",
    "iterLetter\n"
   ]
  },
  {
   "cell_type": "code",
   "execution_count": null,
   "metadata": {
    "scrolled": true,
    "tags": []
   },
   "outputs": [],
   "source": [
    "total = len(tryWords)*lenWord\n",
    "freqLetter = {character: value / total \n",
    "                    for character, value in iterLetter.items()}\n",
    "\n",
    "freqLetter"
   ]
  },
  {
   "cell_type": "code",
   "execution_count": null,
   "metadata": {
    "scrolled": true
   },
   "outputs": [],
   "source": [
    "def calculate_word_commonality(word):\n",
    "    score = 0\n",
    "    for char in word:\n",
    "        score += freqLetter[char]\n",
    "    return score / (lenWord - len(set(word)) + 1)"
   ]
  },
  {
   "cell_type": "code",
   "execution_count": null,
   "metadata": {
    "scrolled": true
   },
   "outputs": [],
   "source": [
    "import operator\n",
    "\n",
    "def sort_by_word_commonality(words):\n",
    "    sort_by = operator.itemgetter(1)\n",
    "    return sorted(\n",
    "        [(word, calculate_word_commonality(word)) for word in words],\n",
    "        key = sort_by,\n",
    "        reverse=True,\n",
    "    )\n",
    "\n",
    "def display_word_table(word_commonalities):\n",
    "    for (word,freq) in word_commonalities:\n",
    "        print(f\"{word:<10} | {freq:<5.2}\")\n"
   ]
  },
  {
   "cell_type": "code",
   "execution_count": null,
   "metadata": {
    "scrolled": true
   },
   "outputs": [],
   "source": [
    "def input_word():\n",
    "    while True:\n",
    "        word = input(\"Whad'ya put in> \")\n",
    "        if len(word) == lenWord and word.lower() in tryWords:\n",
    "            break\n",
    "    return word.lower()\n",
    "\n",
    "def input_response():\n",
    "    print(\"Put the following based on the response from Wordle:\")\n",
    "    print(\" G for Green\")\n",
    "    print(\" Y for Yellow\")\n",
    "    print(\" ? for Gray\")\n",
    "    while True:\n",
    "        response = input(\"Response from Wordle> \")\n",
    "        if len(response) == lenWord and set(response) <= {\"G\", \"Y\", \"?\"}:\n",
    "            break\n",
    "        else:\n",
    "            print(f\"Error - invalid answer {response}\")\n",
    "    return response"
   ]
  },
  {
   "cell_type": "code",
   "execution_count": null,
   "metadata": {
    "scrolled": true
   },
   "outputs": [],
   "source": [
    "def match_word_vector(word, word_vector):\n",
    "    assert len(word) == len(word_vector)\n",
    "    for letter, v_letter in zip(word, word_vector):\n",
    "        if letter not in v_letter:\n",
    "            return False\n",
    "    return True\n",
    "\n",
    "def match(word_vector, possible_words):\n",
    "    return [word for word in possible_words if match_word_vector(word, word_vector)]"
   ]
  },
  {
   "cell_type": "code",
   "execution_count": null,
   "metadata": {
    "scrolled": true
   },
   "outputs": [],
   "source": [
    "def enter_word(browser, word):\n",
    "    shadow = Shadow(browser)\n",
    "    wordleBot = browser.find_element_by_tag_name('html')\n",
    "    wordleBot.click()\n",
    "    time.sleep(1)\n",
    "    wordleBot.send_keys(word)\n",
    "    wordleBot.send_keys(Keys.ENTER)\n",
    "    time.sleep(1)\n",
    "    finalEvaluation = list(word)\n",
    "    gameRow = shadow.find_element(\"game-row[letters=\"+word+\"]\")\n",
    "    for char in set(word):\n",
    "        gameTile = shadow.find_elements(gameRow,\"game-tile[letter=\" + char +\"]\")\n",
    "        index = -1\n",
    "        for elem in gameTile:\n",
    "            if elem.get_attribute(\"evaluation\") == 'present':\n",
    "                finalEvaluation[word.index(char, index + 1, len(word))] = 'Y' \n",
    "            if elem.get_attribute(\"evaluation\") == 'correct':\n",
    "                finalEvaluation[word.index(char, index + 1, len(word))] = 'G'\n",
    "            if elem.get_attribute(\"evaluation\") == 'absent':\n",
    "                finalEvaluation[word.index(char, index + 1, len(word))] = '?'\n",
    "            index = word.index(char, index + 1, len(word))\n",
    "    return finalEvaluation"
   ]
  },
  {
   "cell_type": "code",
   "execution_count": 47,
   "metadata": {
    "scrolled": true
   },
   "outputs": [],
   "source": [
    "def solve():\n",
    "    browser = webdriver.Chrome(executable_path ='/usr/local/bin/chromedriver')\n",
    "    shadow = Shadow(browser)\n",
    "    browser.get('http://www.powerlanguage.co.uk/wordle/')\n",
    "    time.sleep(1)\n",
    "    possible_words = WORDS.copy()\n",
    "    word_vector = [set(string.ascii_lowercase) for _ in range(lenWord)]\n",
    "    yLetters = set()\n",
    "    for attempt in range(1, noAttempt + 1):\n",
    "        print(f\"Attempt {attempt} with {len(possible_words)} possible words\")\n",
    "        sortedWords = sort_by_word_commonality(possible_words)\n",
    "        display_word_table(sortedWords[:15])\n",
    "        i = 0\n",
    "        word = sortedWords[0][0]\n",
    "        while yLetters.issubset(set(word)) == False:\n",
    "            i = i + 1\n",
    "            word = sortedWords[i][0]\n",
    "        response = enter_word(browser,word)\n",
    "        for idx, letter in enumerate(response):\n",
    "            if letter == \"G\":\n",
    "                word_vector[idx] = {word[idx]}\n",
    "            elif letter == \"Y\":\n",
    "                try:\n",
    "                    word_vector[idx].remove(word[idx])\n",
    "                    yLetters.add(word[idx])\n",
    "                except KeyError:\n",
    "                    pass\n",
    "            elif letter == \"?\":\n",
    "                for vector in word_vector:\n",
    "                    try:\n",
    "                        vector.remove(word[idx])\n",
    "                    except KeyError:\n",
    "                        pass\n",
    "        possible_words = match(word_vector, possible_words)\n",
    "    "
   ]
  },
  {
   "cell_type": "code",
   "execution_count": null,
   "metadata": {
    "scrolled": true
   },
   "outputs": [],
   "source": [
    "def solve():\n",
    "    browser = webdriver.Chrome(executable_path ='/usr/local/bin/chromedriver')\n",
    "    shadow = Shadow(browser)\n",
    "    browser.get('https://wordle.berknation.com/')\n",
    "    time.sleep(10)\n",
    "    possible_words = WORDS.copy()\n",
    "    word_vector = [set(string.ascii_lowercase) for _ in range(lenWord)]\n",
    "    yLetters = set()\n",
    "    for attempt in range(1, noAttempt + 1):\n",
    "        print(f\"Attempt {attempt} with {len(possible_words)} possible words\")\n",
    "        sortedWords = sort_by_word_commonality(possible_words)\n",
    "        display_word_table(sortedWords[:15])\n",
    "        i = 0\n",
    "        word = sortedWords[0][0]\n",
    "        while yLetters.issubset(set(word)) == False:\n",
    "            i = i + 1\n",
    "            word = sortedWords[i][0]\n",
    "        response = enter_word(browser,word)\n",
    "        for idx, letter in enumerate(response):\n",
    "            if letter == \"G\":\n",
    "                word_vector[idx] = {word[idx]}\n",
    "            elif letter == \"Y\":\n",
    "                try:\n",
    "                    word_vector[idx].remove(word[idx])\n",
    "                    yLetters.add(word[idx])\n",
    "                except KeyError:\n",
    "                    pass\n",
    "            elif letter == \"?\":\n",
    "                for vector in word_vector:\n",
    "                    try:\n",
    "                        vector.remove(word[idx])\n",
    "                    except KeyError:\n",
    "                        pass\n",
    "        possible_words = match(word_vector, possible_words)\n",
    "    "
   ]
  },
  {
   "cell_type": "code",
   "execution_count": 48,
   "metadata": {
    "scrolled": true
   },
   "outputs": [
    {
     "name": "stderr",
     "output_type": "stream",
     "text": [
      "<ipython-input-47-fa2af271ee1b>:2: DeprecationWarning: executable_path has been deprecated, please pass in a Service object\n",
      "  browser = webdriver.Chrome(executable_path ='/usr/local/bin/chromedriver')\n"
     ]
    },
    {
     "name": "stdout",
     "output_type": "stream",
     "text": [
      "Attempt 1 with 2315 possible words\n",
      "alter      | 0.39 \n",
      "later      | 0.39 \n",
      "alert      | 0.39 \n",
      "arose      | 0.39 \n",
      "irate      | 0.39 \n",
      "stare      | 0.39 \n",
      "raise      | 0.38 \n",
      "arise      | 0.38 \n",
      "renal      | 0.38 \n",
      "learn      | 0.38 \n",
      "saner      | 0.38 \n",
      "snare      | 0.38 \n",
      "steal      | 0.37 \n",
      "least      | 0.37 \n",
      "slate      | 0.37 \n"
     ]
    },
    {
     "name": "stderr",
     "output_type": "stream",
     "text": [
      "<ipython-input-30-51aad33ca172>:3: DeprecationWarning: find_element_by_* commands are deprecated. Please use find_element() instead\n",
      "  wordleBot = browser.find_element_by_tag_name('html')\n"
     ]
    },
    {
     "name": "stdout",
     "output_type": "stream",
     "text": [
      "QA--QAQA True\n",
      "Attempt 2 with 450 possible words\n",
      "salon      | 0.32 \n",
      "snail      | 0.31 \n",
      "shoal      | 0.3  \n",
      "inlay      | 0.29 \n",
      "piano      | 0.29 \n",
      "basil      | 0.29 \n",
      "mason      | 0.28 \n",
      "voila      | 0.28 \n",
      "viola      | 0.28 \n",
      "salvo      | 0.28 \n",
      "scaly      | 0.28 \n",
      "chaos      | 0.28 \n",
      "scald      | 0.28 \n",
      "scalp      | 0.28 \n",
      "solid      | 0.28 \n",
      "QA--QAQA True\n",
      "Attempt 3 with 33 possible words\n",
      "daily      | 0.28 \n",
      "gaily      | 0.27 \n",
      "cavil      | 0.26 \n",
      "laugh      | 0.25 \n",
      "caulk      | 0.25 \n",
      "madly      | 0.24 \n",
      "badly      | 0.24 \n",
      "magic      | 0.24 \n",
      "gaudy      | 0.22 \n",
      "vapid      | 0.22 \n",
      "wacky      | 0.2  \n",
      "bawdy      | 0.2  \n",
      "gawky      | 0.18 \n",
      "cabal      | 0.15 \n",
      "mafia      | 0.14 \n",
      "QA--QAQA True\n",
      "Attempt 4 with 1 possible words\n",
      "caulk      | 0.25 \n",
      "QA--QAQA True\n",
      "Attempt 5 with 1 possible words\n",
      "caulk      | 0.25 \n",
      "QA--QAQA True\n",
      "Attempt 6 with 1 possible words\n",
      "caulk      | 0.25 \n"
     ]
    },
    {
     "ename": "WebDriverException",
     "evalue": "Message: chrome not reachable\n  (Session info: chrome=98.0.4758.80)\nStacktrace:\n#0 0x556efdb7e113 <unknown>\n#1 0x556efd64656f <unknown>\n#2 0x556efd635184 <unknown>\n#3 0x556efd635b89 <unknown>\n#4 0x556efd6378e2 <unknown>\n#5 0x556efd630076 <unknown>\n#6 0x556efd647ad2 <unknown>\n#7 0x556efd6acfc1 <unknown>\n#8 0x556efd699f53 <unknown>\n#9 0x556efd66fbda <unknown>\n#10 0x556efd670ca5 <unknown>\n#11 0x556efdbaf8dd <unknown>\n#12 0x556efdbc8a9b <unknown>\n#13 0x556efdbb16b5 <unknown>\n#14 0x556efdbc9725 <unknown>\n#15 0x556efdba508f <unknown>\n#16 0x556efdbe6188 <unknown>\n#17 0x556efdbe6308 <unknown>\n#18 0x556efdc00a6d <unknown>\n#19 0x7ffadc703d80 <unknown>\n",
     "output_type": "error",
     "traceback": [
      "\u001b[0;31m---------------------------------------------------------------------------\u001b[0m",
      "\u001b[0;31mWebDriverException\u001b[0m                        Traceback (most recent call last)",
      "\u001b[0;32m<ipython-input-48-6f300b4f5987>\u001b[0m in \u001b[0;36m<module>\u001b[0;34m\u001b[0m\n\u001b[0;32m----> 1\u001b[0;31m \u001b[0msolve\u001b[0m\u001b[0;34m(\u001b[0m\u001b[0;34m)\u001b[0m\u001b[0;34m\u001b[0m\u001b[0;34m\u001b[0m\u001b[0m\n\u001b[0m",
      "\u001b[0;32m<ipython-input-47-fa2af271ee1b>\u001b[0m in \u001b[0;36msolve\u001b[0;34m()\u001b[0m\n\u001b[1;32m     16\u001b[0m             \u001b[0mi\u001b[0m \u001b[0;34m=\u001b[0m \u001b[0mi\u001b[0m \u001b[0;34m+\u001b[0m \u001b[0;36m1\u001b[0m\u001b[0;34m\u001b[0m\u001b[0;34m\u001b[0m\u001b[0m\n\u001b[1;32m     17\u001b[0m             \u001b[0mword\u001b[0m \u001b[0;34m=\u001b[0m \u001b[0msortedWords\u001b[0m\u001b[0;34m[\u001b[0m\u001b[0mi\u001b[0m\u001b[0;34m]\u001b[0m\u001b[0;34m[\u001b[0m\u001b[0;36m0\u001b[0m\u001b[0;34m]\u001b[0m\u001b[0;34m\u001b[0m\u001b[0;34m\u001b[0m\u001b[0m\n\u001b[0;32m---> 18\u001b[0;31m         \u001b[0mresponse\u001b[0m \u001b[0;34m=\u001b[0m \u001b[0menter_word\u001b[0m\u001b[0;34m(\u001b[0m\u001b[0mbrowser\u001b[0m\u001b[0;34m,\u001b[0m\u001b[0mword\u001b[0m\u001b[0;34m)\u001b[0m\u001b[0;34m\u001b[0m\u001b[0;34m\u001b[0m\u001b[0m\n\u001b[0m\u001b[1;32m     19\u001b[0m         \u001b[0;32mfor\u001b[0m \u001b[0midx\u001b[0m\u001b[0;34m,\u001b[0m \u001b[0mletter\u001b[0m \u001b[0;32min\u001b[0m \u001b[0menumerate\u001b[0m\u001b[0;34m(\u001b[0m\u001b[0mresponse\u001b[0m\u001b[0;34m)\u001b[0m\u001b[0;34m:\u001b[0m\u001b[0;34m\u001b[0m\u001b[0;34m\u001b[0m\u001b[0m\n\u001b[1;32m     20\u001b[0m             \u001b[0;32mif\u001b[0m \u001b[0mletter\u001b[0m \u001b[0;34m==\u001b[0m \u001b[0;34m\"G\"\u001b[0m\u001b[0;34m:\u001b[0m\u001b[0;34m\u001b[0m\u001b[0;34m\u001b[0m\u001b[0m\n",
      "\u001b[0;32m<ipython-input-30-51aad33ca172>\u001b[0m in \u001b[0;36menter_word\u001b[0;34m(browser, word)\u001b[0m\n\u001b[1;32m      8\u001b[0m     \u001b[0mtime\u001b[0m\u001b[0;34m.\u001b[0m\u001b[0msleep\u001b[0m\u001b[0;34m(\u001b[0m\u001b[0;36m1\u001b[0m\u001b[0;34m)\u001b[0m\u001b[0;34m\u001b[0m\u001b[0;34m\u001b[0m\u001b[0m\n\u001b[1;32m      9\u001b[0m     \u001b[0mfinalEvaluation\u001b[0m \u001b[0;34m=\u001b[0m \u001b[0mlist\u001b[0m\u001b[0;34m(\u001b[0m\u001b[0mword\u001b[0m\u001b[0;34m)\u001b[0m\u001b[0;34m\u001b[0m\u001b[0;34m\u001b[0m\u001b[0m\n\u001b[0;32m---> 10\u001b[0;31m     \u001b[0mgameRow\u001b[0m \u001b[0;34m=\u001b[0m \u001b[0mshadow\u001b[0m\u001b[0;34m.\u001b[0m\u001b[0mfind_element\u001b[0m\u001b[0;34m(\u001b[0m\u001b[0;34m\"game-row[letters=\"\u001b[0m\u001b[0;34m+\u001b[0m\u001b[0mword\u001b[0m\u001b[0;34m+\u001b[0m\u001b[0;34m\"]\"\u001b[0m\u001b[0;34m)\u001b[0m\u001b[0;34m\u001b[0m\u001b[0;34m\u001b[0m\u001b[0m\n\u001b[0m\u001b[1;32m     11\u001b[0m     \u001b[0;32mfor\u001b[0m \u001b[0mchar\u001b[0m \u001b[0;32min\u001b[0m \u001b[0mset\u001b[0m\u001b[0;34m(\u001b[0m\u001b[0mword\u001b[0m\u001b[0;34m)\u001b[0m\u001b[0;34m:\u001b[0m\u001b[0;34m\u001b[0m\u001b[0;34m\u001b[0m\u001b[0m\n\u001b[1;32m     12\u001b[0m         \u001b[0mgameTile\u001b[0m \u001b[0;34m=\u001b[0m \u001b[0mshadow\u001b[0m\u001b[0;34m.\u001b[0m\u001b[0mfind_elements\u001b[0m\u001b[0;34m(\u001b[0m\u001b[0mgameRow\u001b[0m\u001b[0;34m,\u001b[0m\u001b[0;34m\"game-tile[letter=\"\u001b[0m \u001b[0;34m+\u001b[0m \u001b[0mchar\u001b[0m \u001b[0;34m+\u001b[0m\u001b[0;34m\"]\"\u001b[0m\u001b[0;34m)\u001b[0m\u001b[0;34m\u001b[0m\u001b[0;34m\u001b[0m\u001b[0m\n",
      "\u001b[0;32m~/anaconda3/lib/python3.8/site-packages/multipledispatch/dispatcher.py\u001b[0m in \u001b[0;36m__call__\u001b[0;34m(self, *args, **kwargs)\u001b[0m\n\u001b[1;32m    433\u001b[0m             raise NotImplementedError('Could not find signature for %s: <%s>' %\n\u001b[1;32m    434\u001b[0m                                       (self.name, str_signature(types)))\n\u001b[0;32m--> 435\u001b[0;31m         \u001b[0;32mreturn\u001b[0m \u001b[0mfunc\u001b[0m\u001b[0;34m(\u001b[0m\u001b[0mself\u001b[0m\u001b[0;34m.\u001b[0m\u001b[0mobj\u001b[0m\u001b[0;34m,\u001b[0m \u001b[0;34m*\u001b[0m\u001b[0margs\u001b[0m\u001b[0;34m,\u001b[0m \u001b[0;34m**\u001b[0m\u001b[0mkwargs\u001b[0m\u001b[0;34m)\u001b[0m\u001b[0;34m\u001b[0m\u001b[0;34m\u001b[0m\u001b[0m\n\u001b[0m\u001b[1;32m    436\u001b[0m \u001b[0;34m\u001b[0m\u001b[0m\n\u001b[1;32m    437\u001b[0m \u001b[0;34m\u001b[0m\u001b[0m\n",
      "\u001b[0;32m~/anaconda3/lib/python3.8/site-packages/pyshadow/main.py\u001b[0m in \u001b[0;36mfind_element\u001b[0;34m(self, css_selector, force_find)\u001b[0m\n\u001b[1;32m    101\u001b[0m \u001b[0;34m\u001b[0m\u001b[0m\n\u001b[1;32m    102\u001b[0m         \u001b[0;32mif\u001b[0m \u001b[0mself\u001b[0m\u001b[0;34m.\u001b[0m\u001b[0m__implicit_wait\u001b[0m \u001b[0;34m==\u001b[0m \u001b[0;36m0\u001b[0m \u001b[0;32mand\u001b[0m \u001b[0mself\u001b[0m\u001b[0;34m.\u001b[0m\u001b[0m__implicit_wait\u001b[0m \u001b[0;34m==\u001b[0m \u001b[0;36m0\u001b[0m\u001b[0;34m:\u001b[0m\u001b[0;34m\u001b[0m\u001b[0;34m\u001b[0m\u001b[0m\n\u001b[0;32m--> 103\u001b[0;31m             \u001b[0melement\u001b[0m \u001b[0;34m=\u001b[0m \u001b[0mself\u001b[0m\u001b[0;34m.\u001b[0m\u001b[0mexecutor_get_object\u001b[0m\u001b[0;34m(\u001b[0m\u001b[0mcommand\u001b[0m\u001b[0;34m)\u001b[0m\u001b[0;34m\u001b[0m\u001b[0;34m\u001b[0m\u001b[0m\n\u001b[0m\u001b[1;32m    104\u001b[0m \u001b[0;34m\u001b[0m\u001b[0m\n\u001b[1;32m    105\u001b[0m         \u001b[0;32mif\u001b[0m \u001b[0melement\u001b[0m \u001b[0;32mis\u001b[0m \u001b[0;32mNone\u001b[0m\u001b[0;34m:\u001b[0m\u001b[0;34m\u001b[0m\u001b[0;34m\u001b[0m\u001b[0m\n",
      "\u001b[0;32m~/anaconda3/lib/python3.8/site-packages/multipledispatch/dispatcher.py\u001b[0m in \u001b[0;36m__call__\u001b[0;34m(self, *args, **kwargs)\u001b[0m\n\u001b[1;32m    433\u001b[0m             raise NotImplementedError('Could not find signature for %s: <%s>' %\n\u001b[1;32m    434\u001b[0m                                       (self.name, str_signature(types)))\n\u001b[0;32m--> 435\u001b[0;31m         \u001b[0;32mreturn\u001b[0m \u001b[0mfunc\u001b[0m\u001b[0;34m(\u001b[0m\u001b[0mself\u001b[0m\u001b[0;34m.\u001b[0m\u001b[0mobj\u001b[0m\u001b[0;34m,\u001b[0m \u001b[0;34m*\u001b[0m\u001b[0margs\u001b[0m\u001b[0;34m,\u001b[0m \u001b[0;34m**\u001b[0m\u001b[0mkwargs\u001b[0m\u001b[0;34m)\u001b[0m\u001b[0;34m\u001b[0m\u001b[0;34m\u001b[0m\u001b[0m\n\u001b[0m\u001b[1;32m    436\u001b[0m \u001b[0;34m\u001b[0m\u001b[0m\n\u001b[1;32m    437\u001b[0m \u001b[0;34m\u001b[0m\u001b[0m\n",
      "\u001b[0;32m~/anaconda3/lib/python3.8/site-packages/pyshadow/main.py\u001b[0m in \u001b[0;36mexecutor_get_object\u001b[0;34m(self, script)\u001b[0m\n\u001b[1;32m     76\u001b[0m         \u001b[0mjavascript\u001b[0m \u001b[0;34m=\u001b[0m \u001b[0mShadow\u001b[0m\u001b[0;34m.\u001b[0m\u001b[0mjavascript_library\u001b[0m\u001b[0;34m\u001b[0m\u001b[0;34m\u001b[0m\u001b[0m\n\u001b[1;32m     77\u001b[0m         \u001b[0mjavascript\u001b[0m \u001b[0;34m+=\u001b[0m \u001b[0mscript\u001b[0m\u001b[0;34m\u001b[0m\u001b[0;34m\u001b[0m\u001b[0m\n\u001b[0;32m---> 78\u001b[0;31m         \u001b[0;32mreturn\u001b[0m \u001b[0mself\u001b[0m\u001b[0;34m.\u001b[0m\u001b[0minject_shadow_executor\u001b[0m\u001b[0;34m(\u001b[0m\u001b[0mjavascript\u001b[0m\u001b[0;34m)\u001b[0m\u001b[0;34m\u001b[0m\u001b[0;34m\u001b[0m\u001b[0m\n\u001b[0m\u001b[1;32m     79\u001b[0m \u001b[0;34m\u001b[0m\u001b[0m\n\u001b[1;32m     80\u001b[0m     \u001b[0;34m@\u001b[0m\u001b[0mdispatch\u001b[0m\u001b[0;34m(\u001b[0m\u001b[0mstr\u001b[0m\u001b[0;34m,\u001b[0m \u001b[0mobject\u001b[0m\u001b[0;34m)\u001b[0m\u001b[0;34m\u001b[0m\u001b[0;34m\u001b[0m\u001b[0m\n",
      "\u001b[0;32m~/anaconda3/lib/python3.8/site-packages/multipledispatch/dispatcher.py\u001b[0m in \u001b[0;36m__call__\u001b[0;34m(self, *args, **kwargs)\u001b[0m\n\u001b[1;32m    433\u001b[0m             raise NotImplementedError('Could not find signature for %s: <%s>' %\n\u001b[1;32m    434\u001b[0m                                       (self.name, str_signature(types)))\n\u001b[0;32m--> 435\u001b[0;31m         \u001b[0;32mreturn\u001b[0m \u001b[0mfunc\u001b[0m\u001b[0;34m(\u001b[0m\u001b[0mself\u001b[0m\u001b[0;34m.\u001b[0m\u001b[0mobj\u001b[0m\u001b[0;34m,\u001b[0m \u001b[0;34m*\u001b[0m\u001b[0margs\u001b[0m\u001b[0;34m,\u001b[0m \u001b[0;34m**\u001b[0m\u001b[0mkwargs\u001b[0m\u001b[0;34m)\u001b[0m\u001b[0;34m\u001b[0m\u001b[0;34m\u001b[0m\u001b[0m\n\u001b[0m\u001b[1;32m    436\u001b[0m \u001b[0;34m\u001b[0m\u001b[0m\n\u001b[1;32m    437\u001b[0m \u001b[0;34m\u001b[0m\u001b[0m\n",
      "\u001b[0;32m~/anaconda3/lib/python3.8/site-packages/pyshadow/main.py\u001b[0m in \u001b[0;36minject_shadow_executor\u001b[0;34m(self, javascript)\u001b[0m\n\u001b[1;32m     65\u001b[0m     \u001b[0;32mdef\u001b[0m \u001b[0minject_shadow_executor\u001b[0m\u001b[0;34m(\u001b[0m\u001b[0mself\u001b[0m\u001b[0;34m,\u001b[0m \u001b[0mjavascript\u001b[0m\u001b[0;34m)\u001b[0m\u001b[0;34m:\u001b[0m\u001b[0;34m\u001b[0m\u001b[0;34m\u001b[0m\u001b[0m\n\u001b[1;32m     66\u001b[0m         \u001b[0mself\u001b[0m\u001b[0;34m.\u001b[0m\u001b[0mwait_for_page_loaded\u001b[0m\u001b[0;34m(\u001b[0m\u001b[0;34m)\u001b[0m\u001b[0;34m\u001b[0m\u001b[0;34m\u001b[0m\u001b[0m\n\u001b[0;32m---> 67\u001b[0;31m         \u001b[0;32mreturn\u001b[0m \u001b[0mself\u001b[0m\u001b[0;34m.\u001b[0m\u001b[0mdriver\u001b[0m\u001b[0;34m.\u001b[0m\u001b[0mexecute_script\u001b[0m\u001b[0;34m(\u001b[0m\u001b[0mjavascript\u001b[0m\u001b[0;34m)\u001b[0m\u001b[0;34m\u001b[0m\u001b[0;34m\u001b[0m\u001b[0m\n\u001b[0m\u001b[1;32m     68\u001b[0m \u001b[0;34m\u001b[0m\u001b[0m\n\u001b[1;32m     69\u001b[0m     \u001b[0;34m@\u001b[0m\u001b[0mdispatch\u001b[0m\u001b[0;34m(\u001b[0m\u001b[0mstr\u001b[0m\u001b[0;34m,\u001b[0m \u001b[0mobject\u001b[0m\u001b[0;34m)\u001b[0m\u001b[0;34m\u001b[0m\u001b[0;34m\u001b[0m\u001b[0m\n",
      "\u001b[0;32m~/anaconda3/lib/python3.8/site-packages/selenium/webdriver/remote/webdriver.py\u001b[0m in \u001b[0;36mexecute_script\u001b[0;34m(self, script, *args)\u001b[0m\n\u001b[1;32m    876\u001b[0m         \u001b[0mcommand\u001b[0m \u001b[0;34m=\u001b[0m \u001b[0mCommand\u001b[0m\u001b[0;34m.\u001b[0m\u001b[0mW3C_EXECUTE_SCRIPT\u001b[0m\u001b[0;34m\u001b[0m\u001b[0;34m\u001b[0m\u001b[0m\n\u001b[1;32m    877\u001b[0m \u001b[0;34m\u001b[0m\u001b[0m\n\u001b[0;32m--> 878\u001b[0;31m         return self.execute(command, {\n\u001b[0m\u001b[1;32m    879\u001b[0m             \u001b[0;34m'script'\u001b[0m\u001b[0;34m:\u001b[0m \u001b[0mscript\u001b[0m\u001b[0;34m,\u001b[0m\u001b[0;34m\u001b[0m\u001b[0;34m\u001b[0m\u001b[0m\n\u001b[1;32m    880\u001b[0m             'args': converted_args})['value']\n",
      "\u001b[0;32m~/anaconda3/lib/python3.8/site-packages/selenium/webdriver/remote/webdriver.py\u001b[0m in \u001b[0;36mexecute\u001b[0;34m(self, driver_command, params)\u001b[0m\n\u001b[1;32m    422\u001b[0m         \u001b[0mresponse\u001b[0m \u001b[0;34m=\u001b[0m \u001b[0mself\u001b[0m\u001b[0;34m.\u001b[0m\u001b[0mcommand_executor\u001b[0m\u001b[0;34m.\u001b[0m\u001b[0mexecute\u001b[0m\u001b[0;34m(\u001b[0m\u001b[0mdriver_command\u001b[0m\u001b[0;34m,\u001b[0m \u001b[0mparams\u001b[0m\u001b[0;34m)\u001b[0m\u001b[0;34m\u001b[0m\u001b[0;34m\u001b[0m\u001b[0m\n\u001b[1;32m    423\u001b[0m         \u001b[0;32mif\u001b[0m \u001b[0mresponse\u001b[0m\u001b[0;34m:\u001b[0m\u001b[0;34m\u001b[0m\u001b[0;34m\u001b[0m\u001b[0m\n\u001b[0;32m--> 424\u001b[0;31m             \u001b[0mself\u001b[0m\u001b[0;34m.\u001b[0m\u001b[0merror_handler\u001b[0m\u001b[0;34m.\u001b[0m\u001b[0mcheck_response\u001b[0m\u001b[0;34m(\u001b[0m\u001b[0mresponse\u001b[0m\u001b[0;34m)\u001b[0m\u001b[0;34m\u001b[0m\u001b[0;34m\u001b[0m\u001b[0m\n\u001b[0m\u001b[1;32m    425\u001b[0m             response['value'] = self._unwrap_value(\n\u001b[1;32m    426\u001b[0m                 response.get('value', None))\n",
      "\u001b[0;32m~/anaconda3/lib/python3.8/site-packages/selenium/webdriver/remote/errorhandler.py\u001b[0m in \u001b[0;36mcheck_response\u001b[0;34m(self, response)\u001b[0m\n\u001b[1;32m    245\u001b[0m                 \u001b[0malert_text\u001b[0m \u001b[0;34m=\u001b[0m \u001b[0mvalue\u001b[0m\u001b[0;34m[\u001b[0m\u001b[0;34m'alert'\u001b[0m\u001b[0;34m]\u001b[0m\u001b[0;34m.\u001b[0m\u001b[0mget\u001b[0m\u001b[0;34m(\u001b[0m\u001b[0;34m'text'\u001b[0m\u001b[0;34m)\u001b[0m\u001b[0;34m\u001b[0m\u001b[0;34m\u001b[0m\u001b[0m\n\u001b[1;32m    246\u001b[0m             \u001b[0;32mraise\u001b[0m \u001b[0mexception_class\u001b[0m\u001b[0;34m(\u001b[0m\u001b[0mmessage\u001b[0m\u001b[0;34m,\u001b[0m \u001b[0mscreen\u001b[0m\u001b[0;34m,\u001b[0m \u001b[0mstacktrace\u001b[0m\u001b[0;34m,\u001b[0m \u001b[0malert_text\u001b[0m\u001b[0;34m)\u001b[0m  \u001b[0;31m# type: ignore[call-arg]  # mypy is not smart enough here\u001b[0m\u001b[0;34m\u001b[0m\u001b[0;34m\u001b[0m\u001b[0m\n\u001b[0;32m--> 247\u001b[0;31m         \u001b[0;32mraise\u001b[0m \u001b[0mexception_class\u001b[0m\u001b[0;34m(\u001b[0m\u001b[0mmessage\u001b[0m\u001b[0;34m,\u001b[0m \u001b[0mscreen\u001b[0m\u001b[0;34m,\u001b[0m \u001b[0mstacktrace\u001b[0m\u001b[0;34m)\u001b[0m\u001b[0;34m\u001b[0m\u001b[0;34m\u001b[0m\u001b[0m\n\u001b[0m\u001b[1;32m    248\u001b[0m \u001b[0;34m\u001b[0m\u001b[0m\n\u001b[1;32m    249\u001b[0m     \u001b[0;32mdef\u001b[0m \u001b[0m_value_or_default\u001b[0m\u001b[0;34m(\u001b[0m\u001b[0mself\u001b[0m\u001b[0;34m,\u001b[0m \u001b[0mobj\u001b[0m\u001b[0;34m:\u001b[0m \u001b[0mMapping\u001b[0m\u001b[0;34m[\u001b[0m\u001b[0m_KT\u001b[0m\u001b[0;34m,\u001b[0m \u001b[0m_VT\u001b[0m\u001b[0;34m]\u001b[0m\u001b[0;34m,\u001b[0m \u001b[0mkey\u001b[0m\u001b[0;34m:\u001b[0m \u001b[0m_KT\u001b[0m\u001b[0;34m,\u001b[0m \u001b[0mdefault\u001b[0m\u001b[0;34m:\u001b[0m \u001b[0m_VT\u001b[0m\u001b[0;34m)\u001b[0m \u001b[0;34m->\u001b[0m \u001b[0m_VT\u001b[0m\u001b[0;34m:\u001b[0m\u001b[0;34m\u001b[0m\u001b[0;34m\u001b[0m\u001b[0m\n",
      "\u001b[0;31mWebDriverException\u001b[0m: Message: chrome not reachable\n  (Session info: chrome=98.0.4758.80)\nStacktrace:\n#0 0x556efdb7e113 <unknown>\n#1 0x556efd64656f <unknown>\n#2 0x556efd635184 <unknown>\n#3 0x556efd635b89 <unknown>\n#4 0x556efd6378e2 <unknown>\n#5 0x556efd630076 <unknown>\n#6 0x556efd647ad2 <unknown>\n#7 0x556efd6acfc1 <unknown>\n#8 0x556efd699f53 <unknown>\n#9 0x556efd66fbda <unknown>\n#10 0x556efd670ca5 <unknown>\n#11 0x556efdbaf8dd <unknown>\n#12 0x556efdbc8a9b <unknown>\n#13 0x556efdbb16b5 <unknown>\n#14 0x556efdbc9725 <unknown>\n#15 0x556efdba508f <unknown>\n#16 0x556efdbe6188 <unknown>\n#17 0x556efdbe6308 <unknown>\n#18 0x556efdc00a6d <unknown>\n#19 0x7ffadc703d80 <unknown>\n"
     ]
    }
   ],
   "source": [
    "solve()"
   ]
  },
  {
   "cell_type": "code",
   "execution_count": null,
   "metadata": {
    "scrolled": true
   },
   "outputs": [],
   "source": []
  },
  {
   "cell_type": "code",
   "execution_count": null,
   "metadata": {
    "scrolled": true
   },
   "outputs": [],
   "source": []
  }
 ],
 "metadata": {
  "kernelspec": {
   "display_name": "Python 3",
   "language": "python",
   "name": "python3"
  },
  "language_info": {
   "codemirror_mode": {
    "name": "ipython",
    "version": 3
   },
   "file_extension": ".py",
   "mimetype": "text/x-python",
   "name": "python",
   "nbconvert_exporter": "python",
   "pygments_lexer": "ipython3",
   "version": "3.8.8"
  }
 },
 "nbformat": 4,
 "nbformat_minor": 4
}
