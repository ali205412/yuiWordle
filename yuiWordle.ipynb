{
 "cells": [
  {
   "cell_type": "code",
   "execution_count": null,
   "metadata": {},
   "outputs": [],
   "source": [
    "from selenium import webdriver\n",
    "from pyshadow.main import Shadow\n",
    "from selenium.webdriver.common.keys import Keys\n",
    "import re\n",
    "import time\n",
    "import string\n",
    "\n",
    "FILE = \"american-english.txt\"\n",
    "ALLOWABLE_CHARACTERS = set(string.ascii_letters)\n",
    "ALLOWED_ATTEMPTS = 6\n",
    "WORD_LENGTH = 5"
   ]
  },
  {
   "cell_type": "code",
   "execution_count": null,
   "metadata": {},
   "outputs": [],
   "source": [
    "wordlist = [word.strip() for word in open(FILE, \"r\").readlines()]\n",
    "\n",
    "WORDS = {\n",
    "    word.lower()\n",
    "    for word in wordlist    \n",
    "    if len(word) == WORD_LENGTH and set(word) < ALLOWABLE_CHARACTERS\n",
    "    }\n",
    "WORDS"
   ]
  },
  {
   "cell_type": "code",
   "execution_count": null,
   "metadata": {
    "scrolled": true
   },
   "outputs": [],
   "source": [
    "from collections import Counter\n",
    "from itertools import chain\n",
    "\n",
    "\n",
    "\n",
    "LETTER_COUNTER = Counter(chain.from_iterable(WORDS))\n",
    "\n",
    "LETTER_COUNTER\n"
   ]
  },
  {
   "cell_type": "code",
   "execution_count": null,
   "metadata": {},
   "outputs": [],
   "source": [
    "total = len(WORDS)*WORD_LENGTH\n",
    "LETTER_FREQUENCY = {character: value / total \n",
    "                    for character, value in LETTER_COUNTER.items()}\n",
    "\n",
    "LETTER_FREQUENCY"
   ]
  },
  {
   "cell_type": "code",
   "execution_count": null,
   "metadata": {},
   "outputs": [],
   "source": [
    "def calculate_word_commonality(word):\n",
    "    score = 0\n",
    "    for char in word:\n",
    "        score += LETTER_FREQUENCY[char]\n",
    "    return score / (WORD_LENGTH - len(set(word)) + 1)"
   ]
  },
  {
   "cell_type": "code",
   "execution_count": null,
   "metadata": {},
   "outputs": [],
   "source": [
    "import operator\n",
    "\n",
    "def sort_by_word_commonality(words):\n",
    "    sort_by = operator.itemgetter(1)\n",
    "    return sorted(\n",
    "        [(word, calculate_word_commonality(word)) for word in words],\n",
    "        key = sort_by,\n",
    "        reverse=True,\n",
    "    )\n",
    "\n",
    "def display_word_table(word_commonalities):\n",
    "    for (word,freq) in word_commonalities:\n",
    "        print(f\"{word:<10} | {freq:<5.2}\")\n"
   ]
  },
  {
   "cell_type": "code",
   "execution_count": null,
   "metadata": {},
   "outputs": [],
   "source": [
    "def input_word():\n",
    "    while True:\n",
    "        word = input(\"Input the word you entered> \")\n",
    "        if len(word) == WORD_LENGTH and word.lower() in WORDS:\n",
    "            break\n",
    "    return word.lower()\n",
    "\n",
    "def input_response():\n",
    "    print(\"Type the color-coded reply from Wordle:\")\n",
    "    print(\" G for Green\")\n",
    "    print(\" Y for Yellow\")\n",
    "    print(\" ? for Gray\")\n",
    "    while True:\n",
    "        response = input(\"Response from Wordle> \")\n",
    "        if len(response) == WORD_LENGTH and set(response) <= {\"G\", \"Y\", \"?\"}:\n",
    "            break\n",
    "        else:\n",
    "            print(f\"Error - invalid answer {response}\")\n",
    "    return response"
   ]
  },
  {
   "cell_type": "code",
   "execution_count": null,
   "metadata": {},
   "outputs": [],
   "source": [
    "def match_word_vector(word, word_vector):\n",
    "    assert len(word) == len(word_vector)\n",
    "    for letter, v_letter in zip(word, word_vector):\n",
    "        if letter not in v_letter:\n",
    "            return False\n",
    "    return True\n",
    "\n",
    "def match(word_vector, possible_words):\n",
    "    return [word for word in possible_words if match_word_vector(word, word_vector)]"
   ]
  },
  {
   "cell_type": "code",
   "execution_count": null,
   "metadata": {},
   "outputs": [],
   "source": [
    "def enter_word(browser, word):\n",
    "    shadow = Shadow(browser)\n",
    "    wordleBot = browser.find_element_by_tag_name('html')\n",
    "    wordleBot.click()\n",
    "    time.sleep(1)\n",
    "    wordleBot.send_keys(word)\n",
    "    wordleBot.send_keys(Keys.ENTER)\n",
    "    time.sleep(1)\n",
    "    finalEvaluation = list(word)\n",
    "    gameRow = shadow.find_element(\"game-row[letters=\"+word+\"]\")\n",
    "    for char in set(word):\n",
    "        gameTile = shadow.find_elements(gameRow,\"game-tile[letter=\" + char +\"]\")\n",
    "        index = -1\n",
    "        for elem in gameTile:\n",
    "            if elem.get_attribute(\"evaluation\") == 'present':\n",
    "                finalEvaluation[word.index(char, index + 1, len(word))] = 'Y' \n",
    "            if elem.get_attribute(\"evaluation\") == 'correct':\n",
    "                finalEvaluation[word.index(char, index + 1, len(word))] = 'G'\n",
    "            if elem.get_attribute(\"evaluation\") == 'absent':\n",
    "                finalEvaluation[word.index(char, index + 1, len(word))] = '?'\n",
    "            index = word.index(char, index + 1, len(word))\n",
    "    return finalEvaluation"
   ]
  },
  {
   "cell_type": "code",
   "execution_count": null,
   "metadata": {},
   "outputs": [],
   "source": [
    "def solve():\n",
    "    browser = webdriver.Chrome(executable_path ='/Users/yui/go/yuiWordle/chromedriver')\n",
    "    shadow = Shadow(browser)\n",
    "    browser.get('http://www.powerlanguage.co.uk/wordle/')\n",
    "    time.sleep(1)\n",
    "    possible_words = WORDS.copy()\n",
    "    word_vector = [set(string.ascii_lowercase) for _ in range(WORD_LENGTH)]\n",
    "    yLetters = set()\n",
    "    for attempt in range(1, ALLOWED_ATTEMPTS + 1):\n",
    "        print(f\"Attempt {attempt} with {len(possible_words)} possible words\")\n",
    "        sortedWords = sort_by_word_commonality(possible_words)\n",
    "        display_word_table(sortedWords[:15])\n",
    "        i = 0\n",
    "        word = sortedWords[0][0]\n",
    "        while yLetters.issubset(set(word)) == False:\n",
    "            i = i + 1\n",
    "            word = sortedWords[i][0]\n",
    "        response = enter_word(browser,word)\n",
    "        for idx, letter in enumerate(response):\n",
    "            if letter == \"G\":\n",
    "                word_vector[idx] = {word[idx]}\n",
    "            elif letter == \"Y\":\n",
    "                try:\n",
    "                    word_vector[idx].remove(word[idx])\n",
    "                    yLetters.add(word[idx])\n",
    "                except KeyError:\n",
    "                    pass\n",
    "            elif letter == \"?\":\n",
    "                for vector in word_vector:\n",
    "                    try:\n",
    "                        vector.remove(word[idx])\n",
    "                    except KeyError:\n",
    "                        pass\n",
    "        possible_words = match(word_vector, possible_words)\n",
    "    "
   ]
  },
  {
   "cell_type": "code",
   "execution_count": null,
   "metadata": {
    "scrolled": true
   },
   "outputs": [],
   "source": [
    "solve()"
   ]
  },
  {
   "cell_type": "code",
   "execution_count": null,
   "metadata": {},
   "outputs": [],
   "source": []
  },
  {
   "cell_type": "code",
   "execution_count": null,
   "metadata": {},
   "outputs": [],
   "source": []
  }
 ],
 "metadata": {
  "kernelspec": {
   "display_name": "Python 3",
   "language": "python",
   "name": "python3"
  },
  "language_info": {
   "codemirror_mode": {
    "name": "ipython",
    "version": 3
   },
   "file_extension": ".py",
   "mimetype": "text/x-python",
   "name": "python",
   "nbconvert_exporter": "python",
   "pygments_lexer": "ipython3",
   "version": "3.8.8"
  }
 },
 "nbformat": 4,
 "nbformat_minor": 4
}
