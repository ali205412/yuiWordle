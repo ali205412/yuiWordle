{
 "cells": [
  {
   "cell_type": "code",
   "execution_count": 4,
   "metadata": {},
   "outputs": [],
   "source": [
    "from selenium import webdriver\n",
    "from selenium.webdriver.common.keys import Keys\n",
    "import re\n",
    "import time"
   ]
  },
  {
   "cell_type": "code",
   "execution_count": 5,
   "metadata": {},
   "outputs": [],
   "source": [
    "def enter_word(wordleBot, word):\n",
    "    wordleBot.send_keys(word)\n",
    "    wordleBot.send_keys(Keys.ENTER)\n",
    "    time.sleep(1)\n",
    "    host = wordleBot.find_element_by_tag_name(\"game-app\")\n",
    "    firstHost = wordleBot.find_element_by_tag_name(\"game-app\")\n",
    "    game = browser.execute_script(\"return arguments[0].shadowRoot.getElementById('game')\",host)\n",
    "    \n",
    "    keyboard = game.find_element_by_tag_name(\"game-keyboard\")\n",
    "    \n",
    "    keys = browser.execute_script(\"return arguments[0].shadowRoot.getElementById('keyboard')\",keyboard)\n",
    "    \n",
    "    time.sleep(2)\n",
    "    keydata = browser.execute_script(\"return arguments[0].innerHTML;\", keys)\n",
    "    \n",
    "    correctRegex = re.compile('...............correct',re.VERBOSE)\n",
    "    matches = ['','','','','']\n",
    "    n = 0\n",
    "    print(correctRegex.findall(keydata))\n",
    "    for groups in correctRegex.findall(keydata):\n",
    "        matches[n] = groups[0]\n",
    "        n = n + 1\n",
    "    \n",
    "    presentRegex = re.compile('...............present',re.VERBOSE)\n",
    "    nearmatches = ['','','','','']\n",
    "    n = 0\n",
    "    for groups in presentRegex.findall(keydata):\n",
    "        nearmatches[n] = groups[0]\n",
    "        n = n + 1\n",
    "    print(nearmatches)\n",
    "    finalKey = ''\n",
    "    for char in word:\n",
    "        if char in matches:\n",
    "            finalKey = finalKey + 'G'\n",
    "        if char in nearmatches:\n",
    "            finalKey = finalKey + 'Y'\n",
    "        else:\n",
    "            finalKey = finalKey + '?'\n",
    "    \n",
    "    return finalKey"
   ]
  },
  {
   "cell_type": "code",
   "execution_count": 6,
   "metadata": {},
   "outputs": [
    {
     "name": "stderr",
     "output_type": "stream",
     "text": [
      "<ipython-input-6-47b3cf10f23d>:1: DeprecationWarning: executable_path has been deprecated, please pass in a Service object\n",
      "  browser = webdriver.Chrome(executable_path ='/usr/local/bin/chromedriver')\n",
      "<ipython-input-6-47b3cf10f23d>:4: DeprecationWarning: find_element_by_* commands are deprecated. Please use find_element() instead\n",
      "  Elem = browser.find_element_by_tag_name('html')\n",
      "/home/yui/anaconda3/lib/python3.8/site-packages/selenium/webdriver/remote/webelement.py:341: UserWarning: find_element_by_* commands are deprecated. Please use find_element() instead\n",
      "  warnings.warn(\"find_element_by_* commands are deprecated. Please use find_element() instead\")\n"
     ]
    },
    {
     "name": "stdout",
     "output_type": "stream",
     "text": [
      "['r\" data-state=\"correct']\n",
      "['', '', '', '', '']\n"
     ]
    },
    {
     "data": {
      "text/plain": [
       "'G?????'"
      ]
     },
     "execution_count": 6,
     "metadata": {},
     "output_type": "execute_result"
    }
   ],
   "source": [
    "browser = webdriver.Chrome(executable_path ='/usr/local/bin/chromedriver')\n",
    "browser.get('http://www.powerlanguage.co.uk/wordle/')\n",
    "time.sleep(1)\n",
    "Elem = browser.find_element_by_tag_name('html')\n",
    "Elem.click()\n",
    "time.sleep(1)\n",
    "enter_word(Elem, \"rally\")"
   ]
  },
  {
   "cell_type": "code",
   "execution_count": null,
   "metadata": {},
   "outputs": [],
   "source": [
    "\n",
    "                                            \n",
    "        "
   ]
  }
 ],
 "metadata": {
  "kernelspec": {
   "display_name": "Python 3",
   "language": "python",
   "name": "python3"
  },
  "language_info": {
   "codemirror_mode": {
    "name": "ipython",
    "version": 3
   },
   "file_extension": ".py",
   "mimetype": "text/x-python",
   "name": "python",
   "nbconvert_exporter": "python",
   "pygments_lexer": "ipython3",
   "version": "3.8.8"
  }
 },
 "nbformat": 4,
 "nbformat_minor": 4
}
